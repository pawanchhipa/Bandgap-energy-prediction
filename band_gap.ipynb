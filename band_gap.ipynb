{
 "cells": [
  {
   "cell_type": "code",
   "execution_count": 16,
   "metadata": {},
   "outputs": [],
   "source": [
    "import numpy as np\n",
    "import pandas as pd\n",
    "\n",
    "# Generating complex and noisy data\n",
    "np.random.seed(42)\n",
    "\n",
    "# Synthesis parameters\n",
    "precursor_concentration = np.random.uniform(0.05, 0.5, 100)  # Precursor concentration in M\n",
    "reaction_temperature = np.random.uniform(100, 300, 100)  # Temperature in °C\n",
    "deposition_rate = np.random.uniform(0.1, 2.5, 100)  # Deposition rate in nm/min\n",
    "annealing_temperature = np.random.uniform(100, 250, 100)  # Annealing temperature in °C\n",
    "\n",
    "# Non-linear and noisy relationship for bandgap (eV)\n",
    "bandgap = 1.5 + 0.5 * np.sin(precursor_concentration * 10) + 0.01 * reaction_temperature - 0.02 * deposition_rate + \\\n",
    "          0.005 * annealing_temperature + np.random.normal(0, 0.05, 100)\n",
    "\n",
    "# Non-linear and noisy relationship for stability (days)\n",
    "stability = 40 + 15 * np.log(deposition_rate + 0.1) + 0.03 * reaction_temperature - \\\n",
    "            0.02 * precursor_concentration + np.random.normal(0, 5, 100)\n",
    "\n",
    "\n"
   ]
  },
  {
   "cell_type": "markdown",
   "metadata": {},
   "source": [
    "### Generate synthetic data for a materials synthesis experiment.\n",
    "# Parameters:\n",
    "  - precursor_concentration: random values (0.05 to 0.5 M)\n",
    "  - reaction_temperature: random values (100 to 300 °C)\n",
    "  - deposition_rate: random values (0.1 to 2.5 nm/min)\n",
    "  - annealing_temperature: random values (100 to 250 °C)\n",
    "# Outcomes:\n",
    "  - bandgap: calculated with a non-linear formula influenced by the parameters, plus noise\n",
    "  - stability: calculated with a logarithmic formula influenced by the parameters, plus noise"
   ]
  },
  {
   "cell_type": "code",
   "execution_count": 14,
   "metadata": {},
   "outputs": [
    {
     "data": {
      "text/html": [
       "<div>\n",
       "<style scoped>\n",
       "    .dataframe tbody tr th:only-of-type {\n",
       "        vertical-align: middle;\n",
       "    }\n",
       "\n",
       "    .dataframe tbody tr th {\n",
       "        vertical-align: top;\n",
       "    }\n",
       "\n",
       "    .dataframe thead th {\n",
       "        text-align: right;\n",
       "    }\n",
       "</style>\n",
       "<table border=\"1\" class=\"dataframe\">\n",
       "  <thead>\n",
       "    <tr style=\"text-align: right;\">\n",
       "      <th></th>\n",
       "      <th>precursor_concentration</th>\n",
       "      <th>reaction_temperature</th>\n",
       "      <th>deposition_rate</th>\n",
       "      <th>annealing_temperature</th>\n",
       "      <th>bandgap</th>\n",
       "      <th>stability</th>\n",
       "    </tr>\n",
       "  </thead>\n",
       "  <tbody>\n",
       "    <tr>\n",
       "      <th>0</th>\n",
       "      <td>0.218543</td>\n",
       "      <td>106.285837</td>\n",
       "      <td>1.640876</td>\n",
       "      <td>107.752258</td>\n",
       "      <td>3.542568</td>\n",
       "      <td>53.161600</td>\n",
       "    </tr>\n",
       "    <tr>\n",
       "      <th>1</th>\n",
       "      <td>0.477821</td>\n",
       "      <td>227.282082</td>\n",
       "      <td>0.301936</td>\n",
       "      <td>179.703195</td>\n",
       "      <td>4.167431</td>\n",
       "      <td>29.394534</td>\n",
       "    </tr>\n",
       "    <tr>\n",
       "      <th>2</th>\n",
       "      <td>0.379397</td>\n",
       "      <td>162.871196</td>\n",
       "      <td>0.487909</td>\n",
       "      <td>181.095268</td>\n",
       "      <td>3.754988</td>\n",
       "      <td>44.666559</td>\n",
       "    </tr>\n",
       "    <tr>\n",
       "      <th>3</th>\n",
       "      <td>0.319396</td>\n",
       "      <td>201.714138</td>\n",
       "      <td>2.256530</td>\n",
       "      <td>195.614485</td>\n",
       "      <td>4.408397</td>\n",
       "      <td>59.481263</td>\n",
       "    </tr>\n",
       "    <tr>\n",
       "      <th>4</th>\n",
       "      <td>0.120208</td>\n",
       "      <td>281.513295</td>\n",
       "      <td>1.555430</td>\n",
       "      <td>208.913700</td>\n",
       "      <td>5.811197</td>\n",
       "      <td>61.900390</td>\n",
       "    </tr>\n",
       "  </tbody>\n",
       "</table>\n",
       "</div>"
      ],
      "text/plain": [
       "   precursor_concentration  reaction_temperature  deposition_rate  \\\n",
       "0                 0.218543            106.285837         1.640876   \n",
       "1                 0.477821            227.282082         0.301936   \n",
       "2                 0.379397            162.871196         0.487909   \n",
       "3                 0.319396            201.714138         2.256530   \n",
       "4                 0.120208            281.513295         1.555430   \n",
       "\n",
       "   annealing_temperature   bandgap  stability  \n",
       "0             107.752258  3.542568  53.161600  \n",
       "1             179.703195  4.167431  29.394534  \n",
       "2             181.095268  3.754988  44.666559  \n",
       "3             195.614485  4.408397  59.481263  \n",
       "4             208.913700  5.811197  61.900390  "
      ]
     },
     "execution_count": 14,
     "metadata": {},
     "output_type": "execute_result"
    }
   ],
   "source": [
    "# Create a DataFrame\n",
    "df = pd.DataFrame({\n",
    "    'precursor_concentration': precursor_concentration,\n",
    "    'reaction_temperature': reaction_temperature,\n",
    "    'deposition_rate': deposition_rate,\n",
    "    'annealing_temperature': annealing_temperature,\n",
    "    'bandgap': bandgap,\n",
    "    'stability': stability\n",
    "})\n",
    "\n",
    "# Display the first few rows of the dataset\n",
    "df.head()"
   ]
  },
  {
   "cell_type": "code",
   "execution_count": 15,
   "metadata": {},
   "outputs": [],
   "source": [
    "df.to_csv('band_gap.csv')"
   ]
  }
 ],
 "metadata": {
  "kernelspec": {
   "display_name": "venv",
   "language": "python",
   "name": "python3"
  },
  "language_info": {
   "codemirror_mode": {
    "name": "ipython",
    "version": 3
   },
   "file_extension": ".py",
   "mimetype": "text/x-python",
   "name": "python",
   "nbconvert_exporter": "python",
   "pygments_lexer": "ipython3",
   "version": "3.8.0"
  }
 },
 "nbformat": 4,
 "nbformat_minor": 2
}
